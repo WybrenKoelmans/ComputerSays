{
 "cells": [
  {
   "cell_type": "code",
   "execution_count": 2,
   "metadata": {},
   "outputs": [],
   "source": [
    "import pandas as pd\n",
    "import numpy as np\n",
    "data = pd.read_csv('titanic3.csv')"
   ]
  },
  {
   "cell_type": "code",
   "execution_count": 3,
   "metadata": {},
   "outputs": [],
   "source": [
    "data['sex'].replace({'male':0,'female':1}, inplace=True)\n",
    "data['relatives'] = data.apply (lambda row: int((row['sibsp'] + row['parch']) > 0), axis=1)\n",
    "data = data[['sex', 'pclass','age','relatives','fare','survived']].dropna()\n",
    "\n"
   ]
  },
  {
   "cell_type": "code",
   "execution_count": 4,
   "metadata": {},
   "outputs": [],
   "source": [
    "from sklearn.model_selection import train_test_split\n",
    "x_train, x_test, y_train, y_test = train_test_split(data[['sex','pclass','age','relatives','fare']], data.survived, test_size=0.2, random_state=0)"
   ]
  },
  {
   "cell_type": "code",
   "execution_count": 5,
   "metadata": {},
   "outputs": [],
   "source": [
    "from sklearn.preprocessing import StandardScaler\n",
    "sc = StandardScaler()\n",
    "X_train = sc.fit_transform(x_train)\n",
    "X_test = sc.transform(x_test)"
   ]
  },
  {
   "cell_type": "code",
   "execution_count": 6,
   "metadata": {},
   "outputs": [
    {
     "data": {
      "text/html": [
       "<style>#sk-container-id-1 {color: black;}#sk-container-id-1 pre{padding: 0;}#sk-container-id-1 div.sk-toggleable {background-color: white;}#sk-container-id-1 label.sk-toggleable__label {cursor: pointer;display: block;width: 100%;margin-bottom: 0;padding: 0.3em;box-sizing: border-box;text-align: center;}#sk-container-id-1 label.sk-toggleable__label-arrow:before {content: \"▸\";float: left;margin-right: 0.25em;color: #696969;}#sk-container-id-1 label.sk-toggleable__label-arrow:hover:before {color: black;}#sk-container-id-1 div.sk-estimator:hover label.sk-toggleable__label-arrow:before {color: black;}#sk-container-id-1 div.sk-toggleable__content {max-height: 0;max-width: 0;overflow: hidden;text-align: left;background-color: #f0f8ff;}#sk-container-id-1 div.sk-toggleable__content pre {margin: 0.2em;color: black;border-radius: 0.25em;background-color: #f0f8ff;}#sk-container-id-1 input.sk-toggleable__control:checked~div.sk-toggleable__content {max-height: 200px;max-width: 100%;overflow: auto;}#sk-container-id-1 input.sk-toggleable__control:checked~label.sk-toggleable__label-arrow:before {content: \"▾\";}#sk-container-id-1 div.sk-estimator input.sk-toggleable__control:checked~label.sk-toggleable__label {background-color: #d4ebff;}#sk-container-id-1 div.sk-label input.sk-toggleable__control:checked~label.sk-toggleable__label {background-color: #d4ebff;}#sk-container-id-1 input.sk-hidden--visually {border: 0;clip: rect(1px 1px 1px 1px);clip: rect(1px, 1px, 1px, 1px);height: 1px;margin: -1px;overflow: hidden;padding: 0;position: absolute;width: 1px;}#sk-container-id-1 div.sk-estimator {font-family: monospace;background-color: #f0f8ff;border: 1px dotted black;border-radius: 0.25em;box-sizing: border-box;margin-bottom: 0.5em;}#sk-container-id-1 div.sk-estimator:hover {background-color: #d4ebff;}#sk-container-id-1 div.sk-parallel-item::after {content: \"\";width: 100%;border-bottom: 1px solid gray;flex-grow: 1;}#sk-container-id-1 div.sk-label:hover label.sk-toggleable__label {background-color: #d4ebff;}#sk-container-id-1 div.sk-serial::before {content: \"\";position: absolute;border-left: 1px solid gray;box-sizing: border-box;top: 0;bottom: 0;left: 50%;z-index: 0;}#sk-container-id-1 div.sk-serial {display: flex;flex-direction: column;align-items: center;background-color: white;padding-right: 0.2em;padding-left: 0.2em;position: relative;}#sk-container-id-1 div.sk-item {position: relative;z-index: 1;}#sk-container-id-1 div.sk-parallel {display: flex;align-items: stretch;justify-content: center;background-color: white;position: relative;}#sk-container-id-1 div.sk-item::before, #sk-container-id-1 div.sk-parallel-item::before {content: \"\";position: absolute;border-left: 1px solid gray;box-sizing: border-box;top: 0;bottom: 0;left: 50%;z-index: -1;}#sk-container-id-1 div.sk-parallel-item {display: flex;flex-direction: column;z-index: 1;position: relative;background-color: white;}#sk-container-id-1 div.sk-parallel-item:first-child::after {align-self: flex-end;width: 50%;}#sk-container-id-1 div.sk-parallel-item:last-child::after {align-self: flex-start;width: 50%;}#sk-container-id-1 div.sk-parallel-item:only-child::after {width: 0;}#sk-container-id-1 div.sk-dashed-wrapped {border: 1px dashed gray;margin: 0 0.4em 0.5em 0.4em;box-sizing: border-box;padding-bottom: 0.4em;background-color: white;}#sk-container-id-1 div.sk-label label {font-family: monospace;font-weight: bold;display: inline-block;line-height: 1.2em;}#sk-container-id-1 div.sk-label-container {text-align: center;}#sk-container-id-1 div.sk-container {/* jupyter's `normalize.less` sets `[hidden] { display: none; }` but bootstrap.min.css set `[hidden] { display: none !important; }` so we also need the `!important` here to be able to override the default hidden behavior on the sphinx rendered scikit-learn.org. See: https://github.com/scikit-learn/scikit-learn/issues/21755 */display: inline-block !important;position: relative;}#sk-container-id-1 div.sk-text-repr-fallback {display: none;}</style><div id=\"sk-container-id-1\" class=\"sk-top-container\"><div class=\"sk-text-repr-fallback\"><pre>GaussianNB()</pre><b>In a Jupyter environment, please rerun this cell to show the HTML representation or trust the notebook. <br />On GitHub, the HTML representation is unable to render, please try loading this page with nbviewer.org.</b></div><div class=\"sk-container\" hidden><div class=\"sk-item\"><div class=\"sk-estimator sk-toggleable\"><input class=\"sk-toggleable__control sk-hidden--visually\" id=\"sk-estimator-id-1\" type=\"checkbox\" checked><label for=\"sk-estimator-id-1\" class=\"sk-toggleable__label sk-toggleable__label-arrow\">GaussianNB</label><div class=\"sk-toggleable__content\"><pre>GaussianNB()</pre></div></div></div></div></div>"
      ],
      "text/plain": [
       "GaussianNB()"
      ]
     },
     "execution_count": 6,
     "metadata": {},
     "output_type": "execute_result"
    }
   ],
   "source": [
    "from sklearn.naive_bayes import GaussianNB\n",
    "model = GaussianNB()\n",
    "model.fit(X_train, y_train)"
   ]
  },
  {
   "cell_type": "code",
   "execution_count": 7,
   "metadata": {},
   "outputs": [
    {
     "name": "stdout",
     "output_type": "stream",
     "text": [
      "0.7464114832535885\n"
     ]
    }
   ],
   "source": [
    "from sklearn import metrics\n",
    "predict_test = model.predict(X_test)\n",
    "print(metrics.accuracy_score(y_test, predict_test))"
   ]
  },
  {
   "cell_type": "code",
   "execution_count": 8,
   "metadata": {},
   "outputs": [],
   "source": [
    "from keras.models import Sequential\n",
    "from keras.layers import Dense\n",
    "\n",
    "model = Sequential()"
   ]
  },
  {
   "cell_type": "code",
   "execution_count": 9,
   "metadata": {},
   "outputs": [],
   "source": [
    "model.add(Dense(5, kernel_initializer = 'uniform', activation = 'relu', input_dim = 5))\n",
    "model.add(Dense(5, kernel_initializer = 'uniform', activation = 'relu'))\n",
    "model.add(Dense(1, kernel_initializer = 'uniform', activation = 'sigmoid'))"
   ]
  },
  {
   "cell_type": "code",
   "execution_count": 10,
   "metadata": {},
   "outputs": [
    {
     "name": "stdout",
     "output_type": "stream",
     "text": [
      "Model: \"sequential\"\n",
      "_________________________________________________________________\n",
      " Layer (type)                Output Shape              Param #   \n",
      "=================================================================\n",
      " dense (Dense)               (None, 5)                 30        \n",
      "                                                                 \n",
      " dense_1 (Dense)             (None, 5)                 30        \n",
      "                                                                 \n",
      " dense_2 (Dense)             (None, 1)                 6         \n",
      "                                                                 \n",
      "=================================================================\n",
      "Total params: 66 (264.00 Byte)\n",
      "Trainable params: 66 (264.00 Byte)\n",
      "Non-trainable params: 0 (0.00 Byte)\n",
      "_________________________________________________________________\n"
     ]
    }
   ],
   "source": [
    "model.summary()\n"
   ]
  },
  {
   "cell_type": "code",
   "execution_count": 11,
   "metadata": {},
   "outputs": [
    {
     "name": "stdout",
     "output_type": "stream",
     "text": [
      "Epoch 1/50\n",
      "27/27 [==============================] - 1s 1ms/step - loss: 0.6922 - accuracy: 0.5861\n",
      "Epoch 2/50\n",
      "27/27 [==============================] - 0s 1ms/step - loss: 0.6901 - accuracy: 0.5861\n",
      "Epoch 3/50\n",
      "27/27 [==============================] - 0s 1ms/step - loss: 0.6859 - accuracy: 0.5873\n",
      "Epoch 4/50\n",
      "27/27 [==============================] - 0s 924us/step - loss: 0.6766 - accuracy: 0.6352\n",
      "Epoch 5/50\n",
      "27/27 [==============================] - 0s 1ms/step - loss: 0.6608 - accuracy: 0.7404\n",
      "Epoch 6/50\n",
      "27/27 [==============================] - 0s 944us/step - loss: 0.6363 - accuracy: 0.7644\n",
      "Epoch 7/50\n",
      "27/27 [==============================] - 0s 900us/step - loss: 0.6066 - accuracy: 0.7679\n",
      "Epoch 8/50\n",
      "27/27 [==============================] - 0s 1ms/step - loss: 0.5739 - accuracy: 0.7691\n",
      "Epoch 9/50\n",
      "27/27 [==============================] - 0s 1ms/step - loss: 0.5437 - accuracy: 0.7751\n",
      "Epoch 10/50\n",
      "27/27 [==============================] - 0s 1ms/step - loss: 0.5196 - accuracy: 0.7763\n",
      "Epoch 11/50\n",
      "27/27 [==============================] - 0s 1ms/step - loss: 0.5025 - accuracy: 0.7727\n",
      "Epoch 12/50\n",
      "27/27 [==============================] - 0s 976us/step - loss: 0.4899 - accuracy: 0.7751\n",
      "Epoch 13/50\n",
      "27/27 [==============================] - 0s 982us/step - loss: 0.4827 - accuracy: 0.7763\n",
      "Epoch 14/50\n",
      "27/27 [==============================] - 0s 1ms/step - loss: 0.4760 - accuracy: 0.7763\n",
      "Epoch 15/50\n",
      "27/27 [==============================] - 0s 1ms/step - loss: 0.4723 - accuracy: 0.7727\n",
      "Epoch 16/50\n",
      "27/27 [==============================] - 0s 1ms/step - loss: 0.4687 - accuracy: 0.7811\n",
      "Epoch 17/50\n",
      "27/27 [==============================] - 0s 950us/step - loss: 0.4656 - accuracy: 0.7811\n",
      "Epoch 18/50\n",
      "27/27 [==============================] - 0s 988us/step - loss: 0.4639 - accuracy: 0.7847\n",
      "Epoch 19/50\n",
      "27/27 [==============================] - 0s 983us/step - loss: 0.4615 - accuracy: 0.7859\n",
      "Epoch 20/50\n",
      "27/27 [==============================] - 0s 861us/step - loss: 0.4596 - accuracy: 0.7883\n",
      "Epoch 21/50\n",
      "27/27 [==============================] - 0s 844us/step - loss: 0.4580 - accuracy: 0.7859\n",
      "Epoch 22/50\n",
      "27/27 [==============================] - 0s 919us/step - loss: 0.4561 - accuracy: 0.7835\n",
      "Epoch 23/50\n",
      "27/27 [==============================] - 0s 845us/step - loss: 0.4547 - accuracy: 0.7883\n",
      "Epoch 24/50\n",
      "27/27 [==============================] - 0s 886us/step - loss: 0.4535 - accuracy: 0.7859\n",
      "Epoch 25/50\n",
      "27/27 [==============================] - 0s 885us/step - loss: 0.4527 - accuracy: 0.7859\n",
      "Epoch 26/50\n",
      "27/27 [==============================] - 0s 865us/step - loss: 0.4522 - accuracy: 0.7871\n",
      "Epoch 27/50\n",
      "27/27 [==============================] - 0s 896us/step - loss: 0.4514 - accuracy: 0.7811\n",
      "Epoch 28/50\n",
      "27/27 [==============================] - 0s 927us/step - loss: 0.4505 - accuracy: 0.7871\n",
      "Epoch 29/50\n",
      "27/27 [==============================] - 0s 886us/step - loss: 0.4501 - accuracy: 0.7835\n",
      "Epoch 30/50\n",
      "27/27 [==============================] - 0s 896us/step - loss: 0.4498 - accuracy: 0.7847\n",
      "Epoch 31/50\n",
      "27/27 [==============================] - 0s 926us/step - loss: 0.4496 - accuracy: 0.7895\n",
      "Epoch 32/50\n",
      "27/27 [==============================] - 0s 833us/step - loss: 0.4489 - accuracy: 0.7859\n",
      "Epoch 33/50\n",
      "27/27 [==============================] - 0s 864us/step - loss: 0.4487 - accuracy: 0.7859\n",
      "Epoch 34/50\n",
      "27/27 [==============================] - 0s 887us/step - loss: 0.4487 - accuracy: 0.7871\n",
      "Epoch 35/50\n",
      "27/27 [==============================] - 0s 883us/step - loss: 0.4481 - accuracy: 0.7883\n",
      "Epoch 36/50\n",
      "27/27 [==============================] - 0s 1ms/step - loss: 0.4486 - accuracy: 0.7835\n",
      "Epoch 37/50\n",
      "27/27 [==============================] - 0s 1ms/step - loss: 0.4481 - accuracy: 0.7871\n",
      "Epoch 38/50\n",
      "27/27 [==============================] - 0s 872us/step - loss: 0.4476 - accuracy: 0.7859\n",
      "Epoch 39/50\n",
      "27/27 [==============================] - 0s 967us/step - loss: 0.4475 - accuracy: 0.7835\n",
      "Epoch 40/50\n",
      "27/27 [==============================] - 0s 874us/step - loss: 0.4478 - accuracy: 0.7859\n",
      "Epoch 41/50\n",
      "27/27 [==============================] - 0s 914us/step - loss: 0.4470 - accuracy: 0.7895\n",
      "Epoch 42/50\n",
      "27/27 [==============================] - 0s 892us/step - loss: 0.4474 - accuracy: 0.7883\n",
      "Epoch 43/50\n",
      "27/27 [==============================] - 0s 870us/step - loss: 0.4466 - accuracy: 0.7895\n",
      "Epoch 44/50\n",
      "27/27 [==============================] - 0s 867us/step - loss: 0.4464 - accuracy: 0.7895\n",
      "Epoch 45/50\n",
      "27/27 [==============================] - 0s 910us/step - loss: 0.4466 - accuracy: 0.7859\n",
      "Epoch 46/50\n",
      "27/27 [==============================] - 0s 1ms/step - loss: 0.4461 - accuracy: 0.7847\n",
      "Epoch 47/50\n",
      "27/27 [==============================] - 0s 847us/step - loss: 0.4458 - accuracy: 0.7859\n",
      "Epoch 48/50\n",
      "27/27 [==============================] - 0s 846us/step - loss: 0.4459 - accuracy: 0.7847\n",
      "Epoch 49/50\n",
      "27/27 [==============================] - 0s 856us/step - loss: 0.4455 - accuracy: 0.7847\n",
      "Epoch 50/50\n",
      "27/27 [==============================] - 0s 852us/step - loss: 0.4454 - accuracy: 0.7859\n"
     ]
    },
    {
     "data": {
      "text/plain": [
       "<keras.src.callbacks.History at 0x2a6e8f3d490>"
      ]
     },
     "execution_count": 11,
     "metadata": {},
     "output_type": "execute_result"
    }
   ],
   "source": [
    "model.compile(optimizer=\"adam\", loss='binary_crossentropy', metrics=['accuracy'])\n",
    "model.fit(X_train, y_train, batch_size=32, epochs=50)"
   ]
  },
  {
   "cell_type": "code",
   "execution_count": 12,
   "metadata": {},
   "outputs": [
    {
     "name": "stdout",
     "output_type": "stream",
     "text": [
      "7/7 [==============================] - 0s 898us/step\n",
      "0.7990430622009569\n"
     ]
    }
   ],
   "source": [
    "y_pred = np.rint(model.predict(X_test).flatten())\n",
    "print(metrics.accuracy_score(y_test, y_pred))"
   ]
  },
  {
   "cell_type": "code",
   "execution_count": 16,
   "metadata": {},
   "outputs": [
    {
     "name": "stdout",
     "output_type": "stream",
     "text": [
      "1/1 [==============================] - 0s 17ms/step\n",
      "[[0.48542956]\n",
      " [0.971615  ]]\n"
     ]
    }
   ],
   "source": [
    "frame = pd.DataFrame({\n",
    "    'sex': [0,1],\n",
    "    'pclass': [1,1],\n",
    "    'age': [35,30],\n",
    "    'relatives': [1,1],\n",
    "    'fare': [100,50]\n",
    "})\n",
    "\n",
    "print(model.predict(sc.transform(frame)))"
   ]
  }
 ],
 "metadata": {
  "kernelspec": {
   "display_name": "Python 3",
   "language": "python",
   "name": "python3"
  },
  "language_info": {
   "codemirror_mode": {
    "name": "ipython",
    "version": 3
   },
   "file_extension": ".py",
   "mimetype": "text/x-python",
   "name": "python",
   "nbconvert_exporter": "python",
   "pygments_lexer": "ipython3",
   "version": "3.11.5"
  },
  "orig_nbformat": 4
 },
 "nbformat": 4,
 "nbformat_minor": 2
}
